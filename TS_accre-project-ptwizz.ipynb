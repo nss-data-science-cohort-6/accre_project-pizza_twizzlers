{
 "cells": [
  {
   "cell_type": "code",
   "execution_count": 177,
   "id": "bcdc1e95",
   "metadata": {},
   "outputs": [],
   "source": [
    "import pandas as pd\n",
    "import seaborn as sns\n",
    "import matplotlib.pyplot as plt\n",
    "import numpy as np\n",
    "from matplotlib import colors\n",
    "from matplotlib.ticker import PercentFormatter\n",
    "import random\n",
    "%matplotlib inline\n",
    "import re\n",
    "import warnings"
   ]
  },
  {
   "cell_type": "code",
   "execution_count": 2,
   "id": "6e90c449",
   "metadata": {},
   "outputs": [],
   "source": [
    "#Notes/idead/thoughts\n",
    "\n",
    "# success rate of gpu's\n",
    "# what does job termination mean - lose work? means that calculating time is important\n",
    "#requested jobs used time and terminated -why a buffer\n",
    "#......................................................\n",
    "#failures by user - who and not completeing - using a lot of resources \n",
    "#failed jobs - bad users or hardware failure (exitcode)\n",
    "#envoriment side  -- first value user - exitcode, second environment \n",
    "\n",
    "#'0:9 and 0:15 are the most common exit codes for jobs with some version of the state of \"CANCELLED\"\n",
    "\n",
    "#asking for enough memory/types of failures\n",
    "#asking too much memory"
   ]
  },
  {
   "cell_type": "code",
   "execution_count": 291,
   "id": "b1dab584",
   "metadata": {},
   "outputs": [],
   "source": [
    "warnings.filterwarnings(action='ignore', category= FutureWarning)"
   ]
  },
  {
   "cell_type": "code",
   "execution_count": 292,
   "id": "6165049d",
   "metadata": {},
   "outputs": [],
   "source": [
    "accre = pd.read_csv('accre-gpu-jobs-2022-v2.csv', on_bad_lines='skip')\n",
    "#accre"
   ]
  },
  {
   "cell_type": "code",
   "execution_count": 293,
   "id": "ba4f0d68",
   "metadata": {},
   "outputs": [],
   "source": [
    "accre = pd.DataFrame(accre)\n",
    "#accre"
   ]
  },
  {
   "cell_type": "code",
   "execution_count": 294,
   "id": "e8215c18",
   "metadata": {},
   "outputs": [],
   "source": [
    "accre['USEDMEM'] = accre['USEDMEM'].str.replace(r'[a-zA-Z]','')\n",
    "#accre"
   ]
  },
  {
   "cell_type": "code",
   "execution_count": 295,
   "id": "04f1ea4f",
   "metadata": {},
   "outputs": [],
   "source": [
    "accre['REQTIME'] = accre['REQTIME'].astype(str)\n",
    "accre['USEDTIME'] = accre['USEDTIME'].astype(str)\n",
    "accre['REQTIME'] = pd.to_timedelta(accre['REQTIME'].str.replace('-',' days '))\n",
    "accre['USEDTIME'] = pd.to_timedelta(accre['USEDTIME'].str.replace('-',' days '))\n",
    "accre['REQTIME'] = pd.to_timedelta(accre['REQTIME'], unit = 'S')\n",
    "accre['USEDTIME'] = pd.to_timedelta(accre['USEDTIME'], unit = 'S')\n",
    "accre = accre[accre['USEDMEM'].map(len) > 1]\n",
    "#accre"
   ]
  },
  {
   "cell_type": "code",
   "execution_count": 296,
   "id": "89cab9c3",
   "metadata": {},
   "outputs": [],
   "source": [
    "accre_glasshouse = accre[accre['ACCOUNT'] == 'glasshouse']\n",
    "accre_virginia = accre[accre['ACCOUNT'] == 'virginia']\n",
    "accre_malanga = accre[accre['ACCOUNT'] == 'malanga']\n",
    "accre_prince = accre[accre['ACCOUNT'] == 'prince']\n",
    "accre_prince = accre[accre['ACCOUNT'] == 'prince']\n",
    "accre_grisette = accre[accre['ACCOUNT'] == 'grisette']\n",
    "accre_harovin = accre[accre['ACCOUNT'] == 'harovin']\n",
    "accre_antares = accre[accre['ACCOUNT'] == 'antares']\n",
    "accre_sunburst = accre[accre['ACCOUNT'] == 'sunburst']\n",
    "accre_pasilla = accre[accre['ACCOUNT'] == 'pasilla']\n",
    "accre_plumcot = accre[accre['ACCOUNT'] == 'plumcot']\n",
    "accre_pecans = accre[accre['ACCOUNT'] == 'pecans']\n",
    "accre_kinnow = accre[accre['ACCOUNT'] == 'kinnow']\n",
    "accre_bertanne = accre[accre['ACCOUNT'] == 'bertanne']\n",
    "accre_almonds = accre[accre['ACCOUNT'] == 'almonds']\n",
    "accre_apple = accre[accre['ACCOUNT'] == 'apple']\n",
    "accre_cactus = accre[accre['ACCOUNT'] == 'cactus']"
   ]
  },
  {
   "cell_type": "code",
   "execution_count": 297,
   "id": "8d33e33c",
   "metadata": {},
   "outputs": [],
   "source": [
    "accre_glasshouse_failed_count = accre_glasshouse[accre_glasshouse['STATE'] == 'FAILED']\n",
    "#accre_glasshouse_failed_count.info()\n",
    "accre_glasshouse_fail_pct = 250/234998\n"
   ]
  },
  {
   "cell_type": "code",
   "execution_count": 298,
   "id": "9662cdd6",
   "metadata": {},
   "outputs": [],
   "source": [
    "accre_virginia_failed_count = accre_virginia[accre_virginia['STATE'] == 'FAILED']\n",
    "#accre_virginia_failed_count.info()\n",
    "accre_virginia_fail_pct = 0/9488"
   ]
  },
  {
   "cell_type": "code",
   "execution_count": 299,
   "id": "194817b0",
   "metadata": {},
   "outputs": [],
   "source": [
    "accre_malanga_failed_count = accre_malanga[accre_malanga['STATE'] == 'FAILED']\n",
    "#accre_malanga_failed_count.info()\n",
    "accre_malanga_fail_pct = 0/8157"
   ]
  },
  {
   "cell_type": "code",
   "execution_count": 300,
   "id": "8cb34583",
   "metadata": {},
   "outputs": [],
   "source": [
    "accre_prince_failed_count = accre_prince[accre_prince['STATE'] == 'FAILED']\n",
    "#accre_prince_failed_count\n",
    "accre_prince_fail_pct = 0/7174"
   ]
  },
  {
   "cell_type": "code",
   "execution_count": 301,
   "id": "9a54116a",
   "metadata": {},
   "outputs": [],
   "source": [
    "accre_malanga_failed_count = accre_malanga[accre_malanga['STATE'] == 'FAILED']\n",
    "#accre_malanga_failed_count.info()\n",
    "accre_malanga_fail_pct = 0/8157"
   ]
  },
  {
   "cell_type": "code",
   "execution_count": 302,
   "id": "929a3ae6",
   "metadata": {},
   "outputs": [],
   "source": [
    "accre_grisette_failed_count = accre_grisette[accre_grisette['STATE'] == 'FAILED']\n",
    "#accre_grisette_failed_count.info()\n",
    "accre_grisette_fail_pct = 1/5242"
   ]
  },
  {
   "cell_type": "code",
   "execution_count": 303,
   "id": "d54e91dd",
   "metadata": {},
   "outputs": [],
   "source": [
    "accre_harovin_failed_count = accre_harovin[accre_harovin['STATE'] == 'FAILED']\n",
    "#accre_harovin_failed_count.info()\n",
    "accre_harovin_fail_pct = 4/4534"
   ]
  },
  {
   "cell_type": "code",
   "execution_count": 304,
   "id": "88539c09",
   "metadata": {},
   "outputs": [],
   "source": [
    "accre_antares_failed_count = accre_antares[accre_antares['STATE'] == 'FAILED']\n",
    "#accre_antares_failed_count.info()\n",
    "accre_antares_fail_pct = 0/3015"
   ]
  },
  {
   "cell_type": "code",
   "execution_count": 305,
   "id": "ce528760",
   "metadata": {},
   "outputs": [],
   "source": [
    "accre_sunburst_failed_count = accre_sunburst[accre_sunburst['STATE'] == 'FAILED']\n",
    "#accre_sunburst_failed_count.info()\n",
    "accre_sunburst_fail_pct = 87/1505"
   ]
  },
  {
   "cell_type": "code",
   "execution_count": 306,
   "id": "c8f3493d",
   "metadata": {},
   "outputs": [],
   "source": [
    "accre_pasilla_failed_count = accre_pasilla[accre_pasilla['STATE'] == 'FAILED']\n",
    "#accre_pasilla_failed_count.info()\n",
    "accre_pasilla_fail_pct = 1/1263"
   ]
  },
  {
   "cell_type": "code",
   "execution_count": 307,
   "id": "26fecf54",
   "metadata": {},
   "outputs": [],
   "source": [
    "accre_plumcot_failed_count = accre_plumcot[accre_plumcot['STATE'] == 'FAILED']\n",
    "#accre_plumcot_failed_count.info()\n",
    "accre_plumcot_fail_pct = 0/790"
   ]
  },
  {
   "cell_type": "code",
   "execution_count": 308,
   "id": "e55d93d8",
   "metadata": {},
   "outputs": [],
   "source": [
    "accre_pecans_failed_count = accre_pecans[accre_pecans['STATE'] == 'FAILED']\n",
    "#accre_pecans_failed_count.info()\n",
    "accre_pecans_fail_pct = 0/576"
   ]
  },
  {
   "cell_type": "code",
   "execution_count": 309,
   "id": "64f369bd",
   "metadata": {},
   "outputs": [],
   "source": [
    "accre_kinnow_failed_count = accre_kinnow[accre_kinnow['STATE'] == 'FAILED']\n",
    "#accre_kinnow_failed_count.info()\n",
    "accre_kinnow_fail_pct = 0/406"
   ]
  },
  {
   "cell_type": "code",
   "execution_count": 310,
   "id": "5f886683",
   "metadata": {},
   "outputs": [],
   "source": [
    "accre_bertanne_failed_count = accre_bertanne[accre_bertanne['STATE'] == 'FAILED']\n",
    "#accre_bertanne_failed_count.info()\n",
    "accre_bertanne_fail_pct = 1/198"
   ]
  },
  {
   "cell_type": "code",
   "execution_count": 311,
   "id": "54c86291",
   "metadata": {},
   "outputs": [],
   "source": [
    "accre_almonds_failed_count = accre_almonds[accre_almonds['STATE'] == 'FAILED']\n",
    "#accre_almonds_failed_count.info()\n",
    "accre_almonds_fail_pct = 6/197"
   ]
  },
  {
   "cell_type": "code",
   "execution_count": 312,
   "id": "1c7141a0",
   "metadata": {},
   "outputs": [],
   "source": [
    "accre_apple_failed_count = accre_apple[accre_apple['STATE'] == 'FAILED']\n",
    "#accre_apple_failed_count.info()\n",
    "accre_apple_fail_pct = 11/186"
   ]
  },
  {
   "cell_type": "code",
   "execution_count": 313,
   "id": "8f32e576",
   "metadata": {},
   "outputs": [],
   "source": [
    "accre_cactus_failed_count = accre_cactus[accre_cactus['STATE'] == 'FAILED']\n",
    "#accre_cactus_failed_count.info()\n",
    "accre_cactus_fail_pct = 0/113"
   ]
  },
  {
   "cell_type": "code",
   "execution_count": 314,
   "id": "948c60c5",
   "metadata": {},
   "outputs": [],
   "source": [
    "accre_account_fail_pct = pd.DataFrame({'ACCOUNT': ['glasshouse', 'virginia', 'malanga',\n",
    "              'prince', 'grisette', 'harovin',\n",
    "              'sunburst', 'pasilla', 'plumcot',\n",
    "              'pecans', 'kinnow', 'bertanne',\n",
    "              'almonds', 'apple', 'cactus'],\n",
    "              \n",
    "              'PERCENT_FAIL': [accre_glasshouse_fail_pct, accre_virginia_fail_pct, accre_malanga_fail_pct,\n",
    "               accre_prince_fail_pct, accre_grisette_fail_pct, accre_harovin_fail_pct,\n",
    "               accre_sunburst_fail_pct, accre_pasilla_fail_pct, accre_plumcot_fail_pct,\n",
    "               accre_pecans_fail_pct, accre_kinnow_fail_pct, accre_bertanne_fail_pct,\n",
    "               accre_almonds_fail_pct, accre_apple_fail_pct, accre_cactus_fail_pct]})"
   ]
  },
  {
   "cell_type": "code",
   "execution_count": 315,
   "id": "17a22166",
   "metadata": {
    "scrolled": false
   },
   "outputs": [
    {
     "data": {
      "text/plain": [
       "<AxesSubplot:title={'center':'Failed Percentages for Accounts with 100+ Jobs'}, ylabel='ACCOUNT'>"
      ]
     },
     "execution_count": 315,
     "metadata": {},
     "output_type": "execute_result"
    },
    {
     "data": {
      "image/png": "[encoded data removed]",
      "text/plain": [
       "<Figure size 792x576 with 1 Axes>"
      ]
     },
     "metadata": {
      "needs_background": "light"
     },
     "output_type": "display_data"
    }
   ],
   "source": [
    "#accre_account_fail_pct                            #This is the fail percent for all jobs for Accounts with over 100 jobs#\n",
    "\n",
    "\n",
    "accre_account_fail_pct.set_index('ACCOUNT').plot(\n",
    "    kind = 'barh', color = 'orange', edgecolor = 'black', figsize=(11,8), title = 'Failed Percentages for Accounts with 100+ Jobs') #***Change to multicolor bars****#"
   ]
  },
  {
   "cell_type": "code",
   "execution_count": 356,
   "id": "1a3b388c",
   "metadata": {},
   "outputs": [],
   "source": [
    "#accre['USEDMEM'] = accre['USEDMEM'].astype(float)\n",
    "#accre['USEDMEM'].info()"
   ]
  },
  {
   "cell_type": "code",
   "execution_count": 336,
   "id": "5928b2bb",
   "metadata": {},
   "outputs": [],
   "source": [
    "#accre_apple[['USEDMEM', 'REQTIME', 'USEDTIME', 'STATE', 'EXITCODE']].value_counts()\n",
    "#accre_apple_time_diff = accre_apple['REQTIME'] - accre_apple['USEDTIME']\n",
    "#accre_apple_time_diff.describe()\n",
    "#accre_apple['USEDMEM'].astype(float).describe()\n",
    "#accre_apple['USEDMEM'].info()"
   ]
  },
  {
   "cell_type": "markdown",
   "id": "15d0b9e6",
   "metadata": {},
   "source": [
    "Apple:\n",
    "    \n",
    "    Total Jobs: 186\n",
    "    Failed: 11 (6%) \n",
    "    Completed: 44 (26%)\n",
    "    Cancelled: 116 (62%) \n",
    "    Cancelled by 50355: 11 (6%) \n",
    "    Cancelled by 161909: 4 (2%)\n",
    "\n",
    "Partition:\n",
    "    \n",
    "    Turing: 185 (99%)\n",
    "    Maxwell: 1 (1%)\n",
    "        \n",
    "Used Memory:\n",
    "    \n",
    "    Total Use: 2.9 KB\n",
    "    Average: 5649.704785\n",
    "        \n",
    "\n",
    "ReqTime/UsedTime:\n",
    "    \n",
    "    Avg ReqTime: 3 days 18:58:23.225806451\n",
    "    Avg UsedTime:  2 days 05:42:41.741935483\n",
    "    Average Diff:  1 days 13:15:41.483870967\n",
    "\n",
    "    \n"
   ]
  },
  {
   "cell_type": "code",
   "execution_count": 346,
   "id": "c47c5d63",
   "metadata": {},
   "outputs": [],
   "source": [
    "#accre_sunburst[['REQTIME', 'USEDTIME', 'STATE', 'EXITCODE']].value_counts()\n",
    "#accre_sunburst_time_diff = accre_sunburst['REQTIME'] - accre_sunburst['USEDTIME']\n",
    "#accre_sunburst_time_diff.describe()\n",
    "#accre_sunburst['USEDMEM'].astype(float).describe()\n",
    "#accre_sunburst['USEDTIME'].describe()"
   ]
  },
  {
   "cell_type": "markdown",
   "id": "6be67465",
   "metadata": {},
   "source": [
    "Sunburst:\n",
    "    \n",
    "    Total Jobs: 1505, \n",
    "    Failed: 87 (6%) \n",
    "    Completed: 1388 (92%) \n",
    "    Cancelled: 12 (1%) \n",
    "    Cancelled by 649321: 11 (1%) \n",
    "    Cancelled by 0: 4 (002%)\n",
    "        \n",
    "Partition:\n",
    "    \n",
    "    Pascal: 1505 (100%)\n",
    "\n",
    "       \n",
    "Used Memory:\n",
    "    \n",
    "    Total Use: 23.5+ KB\n",
    "    Average:  250.918525\n",
    "        \n",
    "\n",
    "ReqTime/UsedTime:\n",
    "    \n",
    "    Avg ReqTime:  3 days 23:48:50.232558139\n",
    "    Avg UsedTime:  0 days 02:01:03.124916943\n",
    "    Average Diff:  3 days 21:47:47.107641196"
   ]
  },
  {
   "cell_type": "code",
   "execution_count": 354,
   "id": "3a06777f",
   "metadata": {},
   "outputs": [],
   "source": [
    "#accre_almonds[['REQTIME', 'USEDTIME', 'STATE', 'EXITCODE']].value_counts()\n",
    "#accre_almonds_time_diff = accre_almonds['REQTIME'] - accre_almonds['USEDTIME']\n",
    "#accre_almonds_time_diff.describe()\n",
    "#accre_almonds['USEDMEM'].astype(float).describe()\n",
    "#accre_almonds['USEDTIME'].describe()"
   ]
  },
  {
   "cell_type": "markdown",
   "id": "b383c980",
   "metadata": {},
   "source": [
    "Almonds:\n",
    "\n",
    "    Total Jobs: 197\n",
    "    Failed: 6 (3%) \n",
    "    Completed: 184 (93%) \n",
    "    Cancelled: 7 (4%) \n",
    "    Cancelled by : 0 (0%) \n",
    "    Cancelled by : 0 (0%)\n",
    "    \n",
    "Partition:\n",
    "    \n",
    "    turing: 197 (100%)\n",
    "\n",
    "\n",
    "Used Memory:\n",
    "    \n",
    "    Total Use:  3.1+ KB\n",
    "    Average:  6726.124619\n",
    "        \n",
    "\n",
    "ReqTime/UsedTime:\n",
    "    \n",
    "    Avg ReqTime:    1 days 21:06:51.167512690\n",
    "    Avg UsedTime:   0 days 03:19:40.614213197\n",
    "    Average Diff:   1 days 17:47:10.553299492"
   ]
  },
  {
   "cell_type": "code",
   "execution_count": null,
   "id": "ac3c446d",
   "metadata": {},
   "outputs": [],
   "source": []
  },
  {
   "cell_type": "code",
   "execution_count": null,
   "id": "47bed165",
   "metadata": {},
   "outputs": [],
   "source": []
  },
  {
   "cell_type": "code",
   "execution_count": null,
   "id": "ca3cf357",
   "metadata": {},
   "outputs": [],
   "source": []
  },
  {
   "cell_type": "code",
   "execution_count": null,
   "id": "2b717aa1",
   "metadata": {},
   "outputs": [],
   "source": []
  },
  {
   "cell_type": "code",
   "execution_count": null,
   "id": "46f3c9c2",
   "metadata": {},
   "outputs": [],
   "source": []
  },
  {
   "cell_type": "code",
   "execution_count": 355,
   "id": "a56749e8",
   "metadata": {},
   "outputs": [],
   "source": [
    "#accre_almonds[['USEDMEM','REQTIME', 'USEDTIME', 'STATE', 'EXITCODE']].value_counts()"
   ]
  },
  {
   "cell_type": "code",
   "execution_count": null,
   "id": "0f3c764d",
   "metadata": {},
   "outputs": [],
   "source": [
    "#Looking at Accounts Failed rate and who's fault#/distribution/Users from accounts-is there a individual who is failing/\n",
    "#By what percent are they off/Do users get better with jobs-corr?   ** timeseries plot ***"
   ]
  },
  {
   "cell_type": "code",
   "execution_count": null,
   "id": "14140947",
   "metadata": {},
   "outputs": [],
   "source": [
    "#This makes a horizontal dataframe#"
   ]
  },
  {
   "cell_type": "code",
   "execution_count": 120,
   "id": "19b12b4a",
   "metadata": {},
   "outputs": [],
   "source": [
    "accre_account_fail_pct = pd.DataFrame([[ accre_glasshouse_fail_pct, accre_virginia_fail_pct, accre_malanga_fail_pct,\n",
    "               accre_prince_fail_pct, accre_grisette_fail_pct, accre_harovin_fail_pct,\n",
    "               accre_sunburst_fail_pct, accre_pasilla_fail_pct, accre_plumcot_fail_pct,\n",
    "               accre_pecans_fail_pct, accre_kinnow_fail_pct, accre_bertanne_fail_pct,\n",
    "               accre_almonds_fail_pct, accre_apple_fail_pct, accre_cactus_fail_pct]],\n",
    "             \n",
    "    columns = ['glasshouse', 'virginia', 'malanga',\n",
    "              'prince', 'grisette', 'harovin',\n",
    "              'sunburst', 'pasilla', 'plumcot',\n",
    "              'pecans', 'kinnow', 'bertanne',\n",
    "              'almonds', 'apple', 'cactus'])"
   ]
  },
  {
   "cell_type": "code",
   "execution_count": null,
   "id": "851b3932",
   "metadata": {},
   "outputs": [],
   "source": [
    "# .squeeze() converts df to series\n",
    "#accre_list = pd.DataFrame(accre, columns=['USEDMEM'])\n",
    "#accre_list = accre_list.squeeze()\n"
   ]
  }
 ],
 "metadata": {
  "kernelspec": {
   "display_name": "Python 3 (ipykernel)",
   "language": "python",
   "name": "python3"
  },
  "language_info": {
   "codemirror_mode": {
    "name": "ipython",
    "version": 3
   },
   "file_extension": ".py",
   "mimetype": "text/x-python",
   "name": "python",
   "nbconvert_exporter": "python",
   "pygments_lexer": "ipython3",
   "version": "3.9.12"
  }
 },
 "nbformat": 4,
 "nbformat_minor": 5
}
