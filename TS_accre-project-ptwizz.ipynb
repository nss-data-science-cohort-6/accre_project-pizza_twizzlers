{
 "cells": [
  {
   "cell_type": "code",
   "execution_count": 83,
   "id": "bcdc1e95",
   "metadata": {},
   "outputs": [],
   "source": [
    "import pandas as pd\n",
    "import seaborn as sns\n",
    "import matplotlib.pyplot as plt\n",
    "import numpy as np\n",
    "from matplotlib import colors\n",
    "from matplotlib.ticker import PercentFormatter\n",
    "import random\n",
    "%matplotlib inline\n",
    "import re"
   ]
  },
  {
   "cell_type": "code",
   "execution_count": 99,
   "id": "64093fbb",
   "metadata": {},
   "outputs": [
    {
     "name": "stderr",
     "output_type": "stream",
     "text": [
      "C:\\Users\\tjsim\\AppData\\Local\\Temp\\ipykernel_17824\\566283638.py:1: FutureWarning: The error_bad_lines argument has been deprecated and will be removed in a future version. Use on_bad_lines in the future.\n",
      "\n",
      "\n",
      "  accre = pd.read_csv('accre-gpu-jobs-2022-v2.csv', error_bad_lines=False)\n",
      "b'Skipping line 124084: expected 12 fields, saw 13\\nSkipping line 124809: expected 12 fields, saw 13\\n'\n"
     ]
    }
   ],
   "source": [
    "accre = pd.read_csv('accre-gpu-jobs-2022-v2.csv', error_bad_lines=False)\n",
    "#accre"
   ]
  },
  {
   "cell_type": "code",
   "execution_count": 98,
   "id": "15b6ce61",
   "metadata": {},
   "outputs": [
    {
     "name": "stderr",
     "output_type": "stream",
     "text": [
      "C:\\Users\\tjsim\\AppData\\Local\\Temp\\ipykernel_17824\\1423703766.py:1: FutureWarning: The default value of regex will change from True to False in a future version.\n",
      "  accre_regex = accre['USEDMEM'].str.replace(r'[a-zA-Z]','')\n"
     ]
    }
   ],
   "source": [
    "accre_regex = accre['USEDMEM'].str.replace(r'[a-zA-Z]','')\n",
    "#accre_regex"
   ]
  },
  {
   "cell_type": "code",
   "execution_count": 135,
   "id": "f52c18da",
   "metadata": {},
   "outputs": [],
   "source": [
    "pascal = accre[accre['PARTITION'] == 'pascal']\n",
    "pascal_df = pd.DataFrame(pascal)\n",
    "#pascal_df.info()"
   ]
  },
  {
   "cell_type": "code",
   "execution_count": 136,
   "id": "45da309a",
   "metadata": {},
   "outputs": [
    {
     "name": "stderr",
     "output_type": "stream",
     "text": [
      "C:\\Users\\tjsim\\AppData\\Local\\Temp\\ipykernel_17824\\531570650.py:1: FutureWarning: The default value of regex will change from True to False in a future version.\n",
      "  pascal_regex = pascal_df['USEDMEM'].str.replace(r'[a-zA-Z]','')\n"
     ]
    }
   ],
   "source": [
    "pascal_regex = pascal_df['USEDMEM'].str.replace(r'[a-zA-Z]','')\n",
    "pascal_regex = pd.DataFrame(pascal_regex)\n",
    "pascal_regex['USEDMEM'] = pascal_regex['USEDMEM'].astype(float)\n",
    "#pascal_regex.info()"
   ]
  },
  {
   "cell_type": "code",
   "execution_count": 141,
   "id": "043a0197",
   "metadata": {},
   "outputs": [],
   "source": [
    "maxwell =  accre[accre['PARTITION'] == 'maxwell']\n",
    "maxwell_df = pd.DataFrame(maxwell)\n",
    "#maxwell_df.info()"
   ]
  },
  {
   "cell_type": "code",
   "execution_count": 142,
   "id": "64cd25c2",
   "metadata": {},
   "outputs": [
    {
     "name": "stderr",
     "output_type": "stream",
     "text": [
      "C:\\Users\\tjsim\\AppData\\Local\\Temp\\ipykernel_17824\\3567430430.py:1: FutureWarning: The default value of regex will change from True to False in a future version.\n",
      "  maxwell_regex = maxwell_df['USEDMEM'].str.replace(r'[a-zA-Z]','')\n"
     ]
    }
   ],
   "source": [
    "maxwell_regex = maxwell_df['USEDMEM'].str.replace(r'[a-zA-Z]','')\n",
    "maxwell_regex = pd.DataFrame(maxwell_regex)\n",
    "maxwell_regex['USEDMEM'] = maxwell_regex['USEDMEM'].astype(float)\n",
    "#maxwell_regex.info()"
   ]
  },
  {
   "cell_type": "code",
   "execution_count": 147,
   "id": "63b11af3",
   "metadata": {},
   "outputs": [],
   "source": [
    "turing = accre[accre['PARTITION'] == 'turing']\n",
    "turing_df = pd.DataFrame(turing)   \n",
    "#turing_df.info()"
   ]
  },
  {
   "cell_type": "code",
   "execution_count": 146,
   "id": "a8d4ba6a",
   "metadata": {},
   "outputs": [
    {
     "name": "stderr",
     "output_type": "stream",
     "text": [
      "C:\\Users\\tjsim\\AppData\\Local\\Temp\\ipykernel_17824\\1797468324.py:1: FutureWarning: The default value of regex will change from True to False in a future version.\n",
      "  turing_regex = turing_df['USEDMEM'].str.replace(r'[a-zA-Z]','')\n"
     ]
    }
   ],
   "source": [
    "turing_regex = turing_df['USEDMEM'].str.replace(r'[a-zA-Z]','')\n",
    "turing_regex =  pd.DataFrame(turing_regex)\n",
    "turing_regex['USEDMEM'] = turing_regex['USEDMEM'].astype(float)\n",
    "#turing_regex.info()"
   ]
  },
  {
   "cell_type": "code",
   "execution_count": null,
   "id": "deca63e4",
   "metadata": {},
   "outputs": [],
   "source": []
  },
  {
   "cell_type": "code",
   "execution_count": 65,
   "id": "2a92e2fb",
   "metadata": {},
   "outputs": [],
   "source": [
    "# .squeeze() converts df to series\n",
    "#accre_list = pd.DataFrame(accre, columns=['USEDMEM'])\n",
    "#accre_list = accre_list.squeeze()\n"
   ]
  }
 ],
 "metadata": {
  "kernelspec": {
   "display_name": "Python 3 (ipykernel)",
   "language": "python",
   "name": "python3"
  },
  "language_info": {
   "codemirror_mode": {
    "name": "ipython",
    "version": 3
   },
   "file_extension": ".py",
   "mimetype": "text/x-python",
   "name": "python",
   "nbconvert_exporter": "python",
   "pygments_lexer": "ipython3",
   "version": "3.9.12"
  }
 },
 "nbformat": 4,
 "nbformat_minor": 5
}
