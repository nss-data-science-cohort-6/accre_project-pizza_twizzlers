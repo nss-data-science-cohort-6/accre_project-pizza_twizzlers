{
 "cells": [
  {
   "cell_type": "code",
   "execution_count": 95,
   "id": "bcdc1e95",
   "metadata": {},
   "outputs": [],
   "source": [
    "import pandas as pd\n",
    "import seaborn as sns\n",
    "import matplotlib.pyplot as plt\n",
    "import numpy as np\n",
    "from matplotlib import colors\n",
    "from matplotlib.ticker import PercentFormatter\n",
    "import random\n",
    "%matplotlib inline\n",
    "import re\n",
    "import warnings"
   ]
  },
  {
   "cell_type": "code",
   "execution_count": 96,
   "id": "6e90c449",
   "metadata": {},
   "outputs": [],
   "source": [
    "#Notes/idead/thoughts\n",
    "\n",
    "# success rate of gpu's\n",
    "# what does job termination mean - lose work? means that calculating time is important\n",
    "#requested jobs used time and terminated -why a buffer\n",
    "#......................................................\n",
    "#failures by user - who and not completeing - using a lot of resources \n",
    "#failed jobs - bad users or hardware failure (exitcode)\n",
    "#envoriment side  -- first value user - exitcode, second environment \n",
    "\n",
    "#'0:9 and 0:15 are the most common exit codes for jobs with some version of the state of \"CANCELLED\"\n",
    "\n",
    "#asking for enough memory/types of failures\n",
    "#asking too much memory"
   ]
  },
  {
   "cell_type": "code",
   "execution_count": 97,
   "id": "b1dab584",
   "metadata": {},
   "outputs": [],
   "source": [
    "warnings.filterwarnings(action='ignore', category=FutureWarning)"
   ]
  },
  {
   "cell_type": "code",
   "execution_count": 98,
   "id": "6165049d",
   "metadata": {},
   "outputs": [],
   "source": [
    "accre = pd.read_csv('accre-gpu-jobs-2022-v2.csv', on_bad_lines='skip')\n",
    "#accre"
   ]
  },
  {
   "cell_type": "code",
   "execution_count": 99,
   "id": "ba4f0d68",
   "metadata": {},
   "outputs": [],
   "source": [
    "accre = pd.DataFrame(accre)\n",
    "#accre"
   ]
  },
  {
   "cell_type": "code",
   "execution_count": 100,
   "id": "e8215c18",
   "metadata": {},
   "outputs": [],
   "source": [
    "accre['USEDMEM'] = accre['USEDMEM'].str.replace(r'[a-zA-Z]','')\n",
    "#accre"
   ]
  },
  {
   "cell_type": "code",
   "execution_count": 101,
   "id": "04f1ea4f",
   "metadata": {},
   "outputs": [],
   "source": [
    "accre['REQTIME'] = accre['REQTIME'].astype(str)\n",
    "accre['USEDTIME'] = accre['USEDTIME'].astype(str)\n",
    "accre['REQTIME'] = pd.to_timedelta(accre['REQTIME'].str.replace('-',' days '))\n",
    "accre['USEDTIME'] = pd.to_timedelta(accre['USEDTIME'].str.replace('-',' days '))\n",
    "accre['REQTIME'] = pd.to_timedelta(accre['REQTIME']).dt.total_seconds()\n",
    "accre['USEDTIME'] = pd.to_timedelta(accre['USEDTIME']).dt.total_seconds()\n",
    "accre = accre[accre['USEDMEM'].map(len) > 1]\n",
    "#accre"
   ]
  },
  {
   "cell_type": "code",
   "execution_count": 102,
   "id": "89cab9c3",
   "metadata": {},
   "outputs": [],
   "source": [
    "accre_glasshouse = accre[accre['ACCOUNT'] == 'glasshouse']\n",
    "accre_virginia = accre[accre['ACCOUNT'] == 'virginia']\n",
    "accre_malanga = accre[accre['ACCOUNT'] == 'malanga']\n",
    "accre_prince = accre[accre['ACCOUNT'] == 'prince']\n",
    "accre_prince = accre[accre['ACCOUNT'] == 'prince']\n",
    "accre_grisette = accre[accre['ACCOUNT'] == 'grisette']\n",
    "accre_harovin = accre[accre['ACCOUNT'] == 'harovin']\n",
    "accre_antares = accre[accre['ACCOUNT'] == 'antares']\n",
    "accre_sunburst = accre[accre['ACCOUNT'] == 'sunburst']\n",
    "accre_pasilla = accre[accre['ACCOUNT'] == 'pasilla']\n",
    "accre_plumcot = accre[accre['ACCOUNT'] == 'plumcot']\n",
    "accre_pecans = accre[accre['ACCOUNT'] == 'pecans']\n",
    "accre_kinnow = accre[accre['ACCOUNT'] == 'kinnow']\n",
    "accre_bertanne = accre[accre['ACCOUNT'] == 'bertanne']\n",
    "accre_almonds = accre[accre['ACCOUNT'] == 'almonds']\n",
    "accre_apple = accre[accre['ACCOUNT'] == 'apple']\n",
    "accre_cactus = accre[accre['ACCOUNT'] == 'cactus']"
   ]
  },
  {
   "cell_type": "code",
   "execution_count": 103,
   "id": "8d33e33c",
   "metadata": {},
   "outputs": [],
   "source": [
    "accre_glasshouse_failed_count = accre_glasshouse[accre_glasshouse['STATE'] == 'FAILED']\n",
    "#accre_glasshouse_failed_count.info()\n",
    "accre_glasshouse_fail_pct = 250/234998\n"
   ]
  },
  {
   "cell_type": "code",
   "execution_count": 104,
   "id": "9662cdd6",
   "metadata": {},
   "outputs": [],
   "source": [
    "accre_virginia_failed_count = accre_virginia[accre_virginia['STATE'] == 'FAILED']\n",
    "#accre_virginia_failed_count.info()\n",
    "accre_virginia_fail_pct = 0/9488"
   ]
  },
  {
   "cell_type": "code",
   "execution_count": 105,
   "id": "194817b0",
   "metadata": {},
   "outputs": [],
   "source": [
    "accre_malanga_failed_count = accre_malanga[accre_malanga['STATE'] == 'FAILED']\n",
    "#accre_malanga_failed_count.info()\n",
    "accre_malanga_fail_pct = 0/8157"
   ]
  },
  {
   "cell_type": "code",
   "execution_count": 106,
   "id": "8cb34583",
   "metadata": {},
   "outputs": [],
   "source": [
    "accre_prince_failed_count = accre_prince[accre_prince['STATE'] == 'FAILED']\n",
    "#accre_prince_failed_count\n",
    "accre_prince_fail_pct = 0/7174"
   ]
  },
  {
   "cell_type": "code",
   "execution_count": 107,
   "id": "9a54116a",
   "metadata": {},
   "outputs": [],
   "source": [
    "accre_malanga_failed_count = accre_malanga[accre_malanga['STATE'] == 'FAILED']\n",
    "#accre_malanga_failed_count.info()\n",
    "accre_malanga_fail_pct = 0/8157"
   ]
  },
  {
   "cell_type": "code",
   "execution_count": 108,
   "id": "929a3ae6",
   "metadata": {},
   "outputs": [],
   "source": [
    "accre_grisette_failed_count = accre_grisette[accre_grisette['STATE'] == 'FAILED']\n",
    "#accre_grisette_failed_count.info()\n",
    "accre_grisette_fail_pct = 1/5242"
   ]
  },
  {
   "cell_type": "code",
   "execution_count": 109,
   "id": "d54e91dd",
   "metadata": {},
   "outputs": [],
   "source": [
    "accre_harovin_failed_count = accre_harovin[accre_harovin['STATE'] == 'FAILED']\n",
    "#accre_harovin_failed_count.info()\n",
    "accre_harovin_fail_pct = 4/4534"
   ]
  },
  {
   "cell_type": "code",
   "execution_count": 110,
   "id": "88539c09",
   "metadata": {},
   "outputs": [],
   "source": [
    "accre_antares_failed_count = accre_antares[accre_antares['STATE'] == 'FAILED']\n",
    "#accre_antares_failed_count.info()\n",
    "accre_antares_fail_pct = 0/3015"
   ]
  },
  {
   "cell_type": "code",
   "execution_count": 111,
   "id": "ce528760",
   "metadata": {},
   "outputs": [],
   "source": [
    "accre_sunburst_failed_count = accre_sunburst[accre_sunburst['STATE'] == 'FAILED']\n",
    "#accre_sunburst_failed_count.info()\n",
    "accre_sunburst_fail_pct = 87/1505"
   ]
  },
  {
   "cell_type": "code",
   "execution_count": 112,
   "id": "c8f3493d",
   "metadata": {},
   "outputs": [],
   "source": [
    "accre_pasilla_failed_count = accre_pasilla[accre_pasilla['STATE'] == 'FAILED']\n",
    "#accre_pasilla_failed_count.info()\n",
    "accre_pasilla_fail_pct = 1/1263"
   ]
  },
  {
   "cell_type": "code",
   "execution_count": 113,
   "id": "26fecf54",
   "metadata": {},
   "outputs": [],
   "source": [
    "accre_plumcot_failed_count = accre_plumcot[accre_plumcot['STATE'] == 'FAILED']\n",
    "#accre_plumcot_failed_count.info()\n",
    "accre_plumcot_fail_pct = 0/790"
   ]
  },
  {
   "cell_type": "code",
   "execution_count": 114,
   "id": "e55d93d8",
   "metadata": {},
   "outputs": [],
   "source": [
    "accre_pecans_failed_count = accre_pecans[accre_pecans['STATE'] == 'FAILED']\n",
    "#accre_pecans_failed_count.info()\n",
    "accre_pecans_fail_pct = 0/576"
   ]
  },
  {
   "cell_type": "code",
   "execution_count": 115,
   "id": "64f369bd",
   "metadata": {},
   "outputs": [],
   "source": [
    "accre_kinnow_failed_count = accre_kinnow[accre_kinnow['STATE'] == 'FAILED']\n",
    "#accre_kinnow_failed_count.info()\n",
    "accre_kinnow_fail_pct = 0/406"
   ]
  },
  {
   "cell_type": "code",
   "execution_count": 116,
   "id": "5f886683",
   "metadata": {},
   "outputs": [],
   "source": [
    "accre_bertanne_failed_count = accre_bertanne[accre_bertanne['STATE'] == 'FAILED']\n",
    "#accre_bertanne_failed_count.info()\n",
    "accre_bertanne_fail_pct = 1/198"
   ]
  },
  {
   "cell_type": "code",
   "execution_count": 117,
   "id": "54c86291",
   "metadata": {},
   "outputs": [],
   "source": [
    "accre_almonds_failed_count = accre_almonds[accre_almonds['STATE'] == 'FAILED']\n",
    "#accre_almonds_failed_count.info()\n",
    "accre_almonds_fail_pct = 6/197"
   ]
  },
  {
   "cell_type": "code",
   "execution_count": 118,
   "id": "1c7141a0",
   "metadata": {},
   "outputs": [],
   "source": [
    "accre_apple_failed_count = accre_apple[accre_apple['STATE'] == 'FAILED']\n",
    "#accre_apple_failed_count.info()\n",
    "accre_apple_fail_pct = 11/186"
   ]
  },
  {
   "cell_type": "code",
   "execution_count": 119,
   "id": "8f32e576",
   "metadata": {},
   "outputs": [],
   "source": [
    "accre_cactus_failed_count = accre_cactus[accre_cactus['STATE'] == 'FAILED']\n",
    "#accre_cactus_failed_count.info()\n",
    "accre_cactus_fail_pct = 0/113"
   ]
  },
  {
   "cell_type": "code",
   "execution_count": 121,
   "id": "948c60c5",
   "metadata": {},
   "outputs": [],
   "source": [
    "accre_account_fail_pct = pd.DataFrame({'ACCOUNT': ['glasshouse', 'virginia', 'malanga',\n",
    "              'prince', 'grisette', 'harovin',\n",
    "              'sunburst', 'pasilla', 'plumcot',\n",
    "              'pecans', 'kinnow', 'bertanne',\n",
    "              'almonds', 'apple', 'cactus'],\n",
    "              \n",
    "              'PERCENT_FAIL': [accre_glasshouse_fail_pct, accre_virginia_fail_pct, accre_malanga_fail_pct,\n",
    "               accre_prince_fail_pct, accre_grisette_fail_pct, accre_harovin_fail_pct,\n",
    "               accre_sunburst_fail_pct, accre_pasilla_fail_pct, accre_plumcot_fail_pct,\n",
    "               accre_pecans_fail_pct, accre_kinnow_fail_pct, accre_bertanne_fail_pct,\n",
    "               accre_almonds_fail_pct, accre_apple_fail_pct, accre_cactus_fail_pct]})"
   ]
  },
  {
   "cell_type": "code",
   "execution_count": 94,
   "id": "17a22166",
   "metadata": {},
   "outputs": [
    {
     "data": {
      "text/html": [
       "<div>\n",
       "<style scoped>\n",
       "    .dataframe tbody tr th:only-of-type {\n",
       "        vertical-align: middle;\n",
       "    }\n",
       "\n",
       "    .dataframe tbody tr th {\n",
       "        vertical-align: top;\n",
       "    }\n",
       "\n",
       "    .dataframe thead th {\n",
       "        text-align: right;\n",
       "    }\n",
       "</style>\n",
       "<table border=\"1\" class=\"dataframe\">\n",
       "  <thead>\n",
       "    <tr style=\"text-align: right;\">\n",
       "      <th></th>\n",
       "      <th>ACCOUNT</th>\n",
       "      <th>PERCENT_FAIL</th>\n",
       "    </tr>\n",
       "  </thead>\n",
       "  <tbody>\n",
       "    <tr>\n",
       "      <th>0</th>\n",
       "      <td>glasshouse</td>\n",
       "      <td>0.001064</td>\n",
       "    </tr>\n",
       "    <tr>\n",
       "      <th>1</th>\n",
       "      <td>virginia</td>\n",
       "      <td>0.000000</td>\n",
       "    </tr>\n",
       "    <tr>\n",
       "      <th>2</th>\n",
       "      <td>malanga</td>\n",
       "      <td>0.000000</td>\n",
       "    </tr>\n",
       "    <tr>\n",
       "      <th>3</th>\n",
       "      <td>prince</td>\n",
       "      <td>0.000000</td>\n",
       "    </tr>\n",
       "    <tr>\n",
       "      <th>4</th>\n",
       "      <td>grisette</td>\n",
       "      <td>0.000191</td>\n",
       "    </tr>\n",
       "    <tr>\n",
       "      <th>5</th>\n",
       "      <td>harovin</td>\n",
       "      <td>0.000882</td>\n",
       "    </tr>\n",
       "    <tr>\n",
       "      <th>6</th>\n",
       "      <td>sunburst</td>\n",
       "      <td>0.057807</td>\n",
       "    </tr>\n",
       "    <tr>\n",
       "      <th>7</th>\n",
       "      <td>pasilla</td>\n",
       "      <td>0.000792</td>\n",
       "    </tr>\n",
       "    <tr>\n",
       "      <th>8</th>\n",
       "      <td>plumcot</td>\n",
       "      <td>0.000000</td>\n",
       "    </tr>\n",
       "    <tr>\n",
       "      <th>9</th>\n",
       "      <td>pecans</td>\n",
       "      <td>0.000000</td>\n",
       "    </tr>\n",
       "    <tr>\n",
       "      <th>10</th>\n",
       "      <td>kinnow</td>\n",
       "      <td>0.000000</td>\n",
       "    </tr>\n",
       "    <tr>\n",
       "      <th>11</th>\n",
       "      <td>bertanne</td>\n",
       "      <td>0.005051</td>\n",
       "    </tr>\n",
       "    <tr>\n",
       "      <th>12</th>\n",
       "      <td>almonds</td>\n",
       "      <td>0.030457</td>\n",
       "    </tr>\n",
       "    <tr>\n",
       "      <th>13</th>\n",
       "      <td>apple</td>\n",
       "      <td>0.059140</td>\n",
       "    </tr>\n",
       "    <tr>\n",
       "      <th>14</th>\n",
       "      <td>cactus</td>\n",
       "      <td>0.000000</td>\n",
       "    </tr>\n",
       "  </tbody>\n",
       "</table>\n",
       "</div>"
      ],
      "text/plain": [
       "       ACCOUNT  PERCENT_FAIL\n",
       "0   glasshouse      0.001064\n",
       "1     virginia      0.000000\n",
       "2      malanga      0.000000\n",
       "3       prince      0.000000\n",
       "4     grisette      0.000191\n",
       "5      harovin      0.000882\n",
       "6     sunburst      0.057807\n",
       "7      pasilla      0.000792\n",
       "8      plumcot      0.000000\n",
       "9       pecans      0.000000\n",
       "10      kinnow      0.000000\n",
       "11    bertanne      0.005051\n",
       "12     almonds      0.030457\n",
       "13       apple      0.059140\n",
       "14      cactus      0.000000"
      ]
     },
     "execution_count": 94,
     "metadata": {},
     "output_type": "execute_result"
    }
   ],
   "source": [
    "accre_account_fail_pct                            #This is the fail percent for all jobs for Accounts with over 100 jobs#"
   ]
  },
  {
   "cell_type": "code",
   "execution_count": 147,
   "id": "b321308a",
   "metadata": {},
   "outputs": [
    {
     "data": {
      "text/plain": [
       "<AxesSubplot:>"
      ]
     },
     "execution_count": 147,
     "metadata": {},
     "output_type": "execute_result"
    },
    {
     "data": {
      "image/png": "[encoded data removed]",
      "text/plain": [
       "<Figure size 432x288 with 1 Axes>"
      ]
     },
     "metadata": {
      "needs_background": "light"
     },
     "output_type": "display_data"
    }
   ],
   "source": [
    "accre_account_fail_pct.plot(kind = 'barh', color = 'orange', edgecolor = 'black') "
   ]
  },
  {
   "cell_type": "code",
   "execution_count": null,
   "id": "0f3c764d",
   "metadata": {},
   "outputs": [],
   "source": [
    "#Looking at Accounts Failed rate and who's fault#/distribution/Users from accounts-is there a individual who is failing/\n",
    "#By what percent are they off/Do users get better with jobs-corr?"
   ]
  },
  {
   "cell_type": "code",
   "execution_count": null,
   "id": "0f6c9f17",
   "metadata": {},
   "outputs": [],
   "source": []
  },
  {
   "cell_type": "code",
   "execution_count": null,
   "id": "14140947",
   "metadata": {},
   "outputs": [],
   "source": [
    "#This makes a horizontal dataframe#"
   ]
  },
  {
   "cell_type": "code",
   "execution_count": 120,
   "id": "19b12b4a",
   "metadata": {},
   "outputs": [],
   "source": [
    "accre_account_fail_pct = pd.DataFrame([[ accre_glasshouse_fail_pct, accre_virginia_fail_pct, accre_malanga_fail_pct,\n",
    "               accre_prince_fail_pct, accre_grisette_fail_pct, accre_harovin_fail_pct,\n",
    "               accre_sunburst_fail_pct, accre_pasilla_fail_pct, accre_plumcot_fail_pct,\n",
    "               accre_pecans_fail_pct, accre_kinnow_fail_pct, accre_bertanne_fail_pct,\n",
    "               accre_almonds_fail_pct, accre_apple_fail_pct, accre_cactus_fail_pct]],\n",
    "             \n",
    "    columns = ['glasshouse', 'virginia', 'malanga',\n",
    "              'prince', 'grisette', 'harovin',\n",
    "              'sunburst', 'pasilla', 'plumcot',\n",
    "              'pecans', 'kinnow', 'bertanne',\n",
    "              'almonds', 'apple', 'cactus'])"
   ]
  },
  {
   "cell_type": "code",
   "execution_count": null,
   "id": "851b3932",
   "metadata": {},
   "outputs": [],
   "source": [
    "# .squeeze() converts df to series\n",
    "#accre_list = pd.DataFrame(accre, columns=['USEDMEM'])\n",
    "#accre_list = accre_list.squeeze()\n"
   ]
  }
 ],
 "metadata": {
  "kernelspec": {
   "display_name": "Python 3 (ipykernel)",
   "language": "python",
   "name": "python3"
  },
  "language_info": {
   "codemirror_mode": {
    "name": "ipython",
    "version": 3
   },
   "file_extension": ".py",
   "mimetype": "text/x-python",
   "name": "python",
   "nbconvert_exporter": "python",
   "pygments_lexer": "ipython3",
   "version": "3.9.12"
  }
 },
 "nbformat": 4,
 "nbformat_minor": 5
}
